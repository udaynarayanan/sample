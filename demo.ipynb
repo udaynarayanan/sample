{
 "cells": [
  {
   "cell_type": "markdown",
   "id": "7e0e6c18-483e-4909-a969-64f74adea9b5",
   "metadata": {},
   "source": [
    "## Generate a report of total sales by month"
   ]
  },
  {
   "cell_type": "code",
   "execution_count": 1,
   "id": "283a29d6-12b7-444c-8be2-54c130db518a",
   "metadata": {
    "execution": {
     "iopub.execute_input": "2023-10-16T13:24:32.325881Z",
     "iopub.status.busy": "2023-10-16T13:24:32.325584Z",
     "iopub.status.idle": "2023-10-16T13:25:20.631855Z",
     "shell.execute_reply": "2023-10-16T13:25:20.631107Z",
     "shell.execute_reply.started": "2023-10-16T13:24:32.325856Z"
    },
    "tags": []
   },
   "outputs": [
    {
     "name": "stdout",
     "output_type": "stream",
     "text": [
      "Starting Spark application\n"
     ]
    },
    {
     "data": {
      "text/html": [
       "<table>\n<tbody><tr><th>ID</th><th>YARN Application ID</th><th>Kind</th><th>State</th><th>Spark UI</th><th>Driver log</th><th>User</th><th>Current session?</th></tr><tr><td>1</td><td>application_1697203424401_0002</td><td>pyspark</td><td>idle</td><td><a target=\"_blank\" href=\"http://ip-10-0-20-96.ec2.internal:20888/proxy/application_1697203424401_0002/\" class=\"emr-proxy-link j-2D2ADV29SU3EO application_1697203424401_0002\" emr-resource=\"j-2D2ADV29SU3EO\n\" application-id=\"application_1697203424401_0002\">Link</a></td><td><a target=\"_blank\" href=\"http://ip-10-0-20-102.ec2.internal:8042/node/containerlogs/container_1697203424401_0002_01_000001/livy\">Link</a></td><td>None</td><td>✔</td></tr></tbody></table>"
      ],
      "text/plain": [
       "<IPython.core.display.HTML object>"
      ]
     },
     "metadata": {},
     "output_type": "display_data"
    },
    {
     "data": {
      "application/vnd.jupyter.widget-view+json": {
       "model_id": "",
       "version_major": 2,
       "version_minor": 0
      },
      "text/plain": [
       "FloatProgress(value=0.0, bar_style='info', description='Progress:', layout=Layout(height='25px', width='50%'),…"
      ]
     },
     "metadata": {},
     "output_type": "display_data"
    },
    {
     "name": "stdout",
     "output_type": "stream",
     "text": [
      "SparkSession available as 'spark'.\n"
     ]
    },
    {
     "data": {
      "application/vnd.jupyter.widget-view+json": {
       "model_id": "",
       "version_major": 2,
       "version_minor": 0
      },
      "text/plain": [
       "FloatProgress(value=0.0, bar_style='info', description='Progress:', layout=Layout(height='25px', width='50%'),…"
      ]
     },
     "metadata": {},
     "output_type": "display_data"
    },
    {
     "data": {
      "text/html": [
       "<style>.jp-OutputArea-child .jupyter-widgets.jp-OutputArea-output { overflow: auto; }</style>"
      ],
      "text/plain": [
       "<IPython.core.display.HTML object>"
      ]
     },
     "metadata": {},
     "output_type": "display_data"
    },
    {
     "data": {
      "application/vnd.jupyter.widget-view+json": {
       "model_id": "568db214eebe468c80d61cdfc27dce92",
       "version_major": 2,
       "version_minor": 0
      },
      "text/plain": [
       "VBox(children=(HBox(children=(HTML(value='Type:'), Button(description='Table', layout=Layout(width='70px'), st…"
      ]
     },
     "metadata": {},
     "output_type": "display_data"
    },
    {
     "data": {
      "application/vnd.jupyter.widget-view+json": {
       "model_id": "f4ad86733d4947e28866b6243e068358",
       "version_major": 2,
       "version_minor": 0
      },
      "text/plain": [
       "Output()"
      ]
     },
     "metadata": {},
     "output_type": "display_data"
    }
   ],
   "source": [
    "%%sql\n",
    "\n",
    "SELECT * FROM demo.clickstreambackup limit 5\n",
    "\n",
    "\n"
   ]
  },
  {
   "cell_type": "code",
   "execution_count": 2,
   "id": "093b470c-0082-41df-94b3-321b27fb9348",
   "metadata": {
    "execution": {
     "iopub.execute_input": "2023-10-16T13:25:20.633895Z",
     "iopub.status.busy": "2023-10-16T13:25:20.633361Z",
     "iopub.status.idle": "2023-10-16T13:25:32.046696Z",
     "shell.execute_reply": "2023-10-16T13:25:32.046023Z",
     "shell.execute_reply.started": "2023-10-16T13:25:20.633850Z"
    },
    "tags": []
   },
   "outputs": [
    {
     "data": {
      "application/vnd.jupyter.widget-view+json": {
       "model_id": "",
       "version_major": 2,
       "version_minor": 0
      },
      "text/plain": [
       "FloatProgress(value=0.0, bar_style='info', description='Progress:', layout=Layout(height='25px', width='50%'),…"
      ]
     },
     "metadata": {},
     "output_type": "display_data"
    },
    {
     "data": {
      "text/html": [
       "<style>.jp-OutputArea-child .jupyter-widgets.jp-OutputArea-output { overflow: auto; }</style>"
      ],
      "text/plain": [
       "<IPython.core.display.HTML object>"
      ]
     },
     "metadata": {},
     "output_type": "display_data"
    },
    {
     "data": {
      "application/vnd.jupyter.widget-view+json": {
       "model_id": "87113c13465c4b3b8222475da366b3ab",
       "version_major": 2,
       "version_minor": 0
      },
      "text/plain": [
       "VBox(children=(HBox(children=(HTML(value='Type:'), Button(description='Table', layout=Layout(width='70px'), st…"
      ]
     },
     "metadata": {},
     "output_type": "display_data"
    },
    {
     "data": {
      "application/vnd.jupyter.widget-view+json": {
       "model_id": "47b0d944a29a4986b0d5f7eaaa429cfd",
       "version_major": 2,
       "version_minor": 0
      },
      "text/plain": [
       "Output()"
      ]
     },
     "metadata": {},
     "output_type": "display_data"
    }
   ],
   "source": [
    "%%sql\n",
    "\n",
    "SELECT sum(price) as total_sales,year,month FROM demo.clickstreambackup where year ='2008' group by year,month\n"
   ]
  },
  {
   "cell_type": "code",
   "execution_count": 3,
   "id": "ec48b64d-8b60-4e5f-bafd-c5c51dc72369",
   "metadata": {
    "execution": {
     "iopub.execute_input": "2023-10-16T13:25:32.048279Z",
     "iopub.status.busy": "2023-10-16T13:25:32.048055Z",
     "iopub.status.idle": "2023-10-16T13:25:39.446522Z",
     "shell.execute_reply": "2023-10-16T13:25:39.445785Z",
     "shell.execute_reply.started": "2023-10-16T13:25:32.048257Z"
    },
    "tags": []
   },
   "outputs": [
    {
     "data": {
      "application/vnd.jupyter.widget-view+json": {
       "model_id": "",
       "version_major": 2,
       "version_minor": 0
      },
      "text/plain": [
       "FloatProgress(value=0.0, bar_style='info', description='Progress:', layout=Layout(height='25px', width='50%'),…"
      ]
     },
     "metadata": {},
     "output_type": "display_data"
    },
    {
     "data": {
      "text/html": [
       "<style>.jp-OutputArea-child .jupyter-widgets.jp-OutputArea-output { overflow: auto; }</style>"
      ],
      "text/plain": [
       "<IPython.core.display.HTML object>"
      ]
     },
     "metadata": {},
     "output_type": "display_data"
    },
    {
     "data": {
      "application/vnd.jupyter.widget-view+json": {
       "model_id": "ac0c446958964fcbb78b8262e7ac8910",
       "version_major": 2,
       "version_minor": 0
      },
      "text/plain": [
       "VBox(children=(HBox(children=(HTML(value='Type:'), Button(description='Table', layout=Layout(width='70px'), st…"
      ]
     },
     "metadata": {},
     "output_type": "display_data"
    },
    {
     "data": {
      "application/vnd.jupyter.widget-view+json": {
       "model_id": "9bb56f2680034db5be6cb05056f34ff9",
       "version_major": 2,
       "version_minor": 0
      },
      "text/plain": [
       "Output()"
      ]
     },
     "metadata": {},
     "output_type": "display_data"
    }
   ],
   "source": [
    "%%sql\n",
    "\n",
    "SELECT sum(price) as total_sales,year,month FROM demo.clickstreambackup where year ='2008' group by year,month\n"
   ]
  },
  {
   "cell_type": "code",
   "execution_count": 4,
   "id": "dc7a06f8-7b48-491c-803e-2b93ea818e2c",
   "metadata": {
    "execution": {
     "iopub.execute_input": "2023-10-16T13:25:39.448060Z",
     "iopub.status.busy": "2023-10-16T13:25:39.447775Z",
     "iopub.status.idle": "2023-10-16T13:25:40.795052Z",
     "shell.execute_reply": "2023-10-16T13:25:40.794052Z",
     "shell.execute_reply.started": "2023-10-16T13:25:39.448035Z"
    },
    "tags": []
   },
   "outputs": [
    {
     "data": {
      "application/vnd.jupyter.widget-view+json": {
       "model_id": "",
       "version_major": 2,
       "version_minor": 0
      },
      "text/plain": [
       "FloatProgress(value=0.0, bar_style='info', description='Progress:', layout=Layout(height='25px', width='50%'),…"
      ]
     },
     "metadata": {},
     "output_type": "display_data"
    },
    {
     "data": {
      "text/html": [
       "<style>.jp-OutputArea-child .jupyter-widgets.jp-OutputArea-output { overflow: auto; }</style>"
      ],
      "text/plain": [
       "<IPython.core.display.HTML object>"
      ]
     },
     "metadata": {},
     "output_type": "display_data"
    },
    {
     "data": {
      "application/vnd.jupyter.widget-view+json": {
       "model_id": "510fd581d6c14ed0b95c81e61eb98263",
       "version_major": 2,
       "version_minor": 0
      },
      "text/plain": [
       "VBox(children=(HBox(), EncodingWidget(children=(VBox(children=(HTML(value='Encoding:'), Dropdown(description='…"
      ]
     },
     "metadata": {},
     "output_type": "display_data"
    },
    {
     "data": {
      "application/vnd.jupyter.widget-view+json": {
       "model_id": "dd8344c9828d4f1ca1a6d9367993f94b",
       "version_major": 2,
       "version_minor": 0
      },
      "text/plain": [
       "Output()"
      ]
     },
     "metadata": {},
     "output_type": "display_data"
    }
   ],
   "source": [
    "%%sql\n",
    "CREATE TABLE IF NOT EXISTS aggregate_sales\n",
    "    USING parquet\n",
    "    LOCATION \"s3://intuit-analyst-journey-test-udnaraya/aggregate_sales/\" \n",
    "    AS SELECT sum(price) as total_sales,year,month FROM demo.clickstreambackup where year ='2008' group by year,month\n"
   ]
  },
  {
   "cell_type": "code",
   "execution_count": 5,
   "id": "9095af59-b7d2-4c7e-b264-9b7c2635a8f8",
   "metadata": {
    "execution": {
     "iopub.execute_input": "2023-10-16T13:31:58.606045Z",
     "iopub.status.busy": "2023-10-16T13:31:58.605695Z",
     "iopub.status.idle": "2023-10-16T13:32:12.026194Z",
     "shell.execute_reply": "2023-10-16T13:32:12.025495Z",
     "shell.execute_reply.started": "2023-10-16T13:31:58.606017Z"
    },
    "tags": []
   },
   "outputs": [
    {
     "data": {
      "application/vnd.jupyter.widget-view+json": {
       "model_id": "",
       "version_major": 2,
       "version_minor": 0
      },
      "text/plain": [
       "FloatProgress(value=0.0, bar_style='info', description='Progress:', layout=Layout(height='25px', width='50%'),…"
      ]
     },
     "metadata": {},
     "output_type": "display_data"
    },
    {
     "data": {
      "text/html": [
       "<style>.jp-OutputArea-child .jupyter-widgets.jp-OutputArea-output { overflow: auto; }</style>"
      ],
      "text/plain": [
       "<IPython.core.display.HTML object>"
      ]
     },
     "metadata": {},
     "output_type": "display_data"
    },
    {
     "data": {
      "application/vnd.jupyter.widget-view+json": {
       "model_id": "30a7d841df5a4672958899a699a781d8",
       "version_major": 2,
       "version_minor": 0
      },
      "text/plain": [
       "VBox(children=(HBox(children=(HTML(value='Type:'), Button(description='Table', layout=Layout(width='70px'), st…"
      ]
     },
     "metadata": {},
     "output_type": "display_data"
    },
    {
     "data": {
      "application/vnd.jupyter.widget-view+json": {
       "model_id": "abc029d911c849b497f80badb55d5fb6",
       "version_major": 2,
       "version_minor": 0
      },
      "text/plain": [
       "Output()"
      ]
     },
     "metadata": {},
     "output_type": "display_data"
    }
   ],
   "source": [
    "%%sql\n",
    "select * from aggregate_sales"
   ]
  },
  {
   "cell_type": "markdown",
   "id": "0dd6697f-3d08-4879-aabe-fb35f4e4dc50",
   "metadata": {
    "execution": {
     "iopub.execute_input": "2023-10-12T19:00:19.064469Z",
     "iopub.status.busy": "2023-10-12T19:00:19.064135Z",
     "iopub.status.idle": "2023-10-12T19:00:19.108642Z",
     "shell.execute_reply": "2023-10-12T19:00:19.107986Z",
     "shell.execute_reply.started": "2023-10-12T19:00:19.064444Z"
    }
   },
   "source": [
    "## Total sales by clothing type"
   ]
  },
  {
   "cell_type": "code",
   "execution_count": null,
   "id": "7f6fa011-5a41-4e08-8a52-e1d592060722",
   "metadata": {
    "execution": {
     "iopub.execute_input": "2023-10-12T19:05:59.105000Z",
     "iopub.status.busy": "2023-10-12T19:05:59.104690Z",
     "iopub.status.idle": "2023-10-12T19:06:20.526848Z"
    },
    "tags": []
   },
   "outputs": [
    {
     "data": {
      "application/vnd.jupyter.widget-view+json": {
       "model_id": "",
       "version_major": 2,
       "version_minor": 0
      },
      "text/plain": [
       "FloatProgress(value=0.0, bar_style='info', description='Progress:', layout=Layout(height='25px', width='50%'),…"
      ]
     },
     "metadata": {},
     "output_type": "display_data"
    },
    {
     "data": {
      "text/html": [
       "<style>.jp-OutputArea-child .jupyter-widgets.jp-OutputArea-output { overflow: auto; }</style>"
      ],
      "text/plain": [
       "<IPython.core.display.HTML object>"
      ]
     },
     "metadata": {},
     "output_type": "display_data"
    },
    {
     "data": {
      "application/vnd.jupyter.widget-view+json": {
       "model_id": "1399cb0c4ee54c12964712cc19f9798a",
       "version_major": 2,
       "version_minor": 0
      },
      "text/plain": [
       "VBox(children=(HBox(children=(HTML(value='Type:'), Button(description='Table', layout=Layout(width='70px'), st…"
      ]
     },
     "metadata": {},
     "output_type": "display_data"
    },
    {
     "data": {
      "application/vnd.jupyter.widget-view+json": {
       "model_id": "ebc10906cc4a4f9b83ec161bca373878",
       "version_major": 2,
       "version_minor": 0
      },
      "text/plain": [
       "Output()"
      ]
     },
     "metadata": {},
     "output_type": "display_data"
    }
   ],
   "source": [
    "%%sql\n",
    "select sum(price) as total_sales, CASE `page 1 (main category)`\n",
    "            WHEN 1 THEN 'Trousers' \n",
    "            WHEN 2 THEN 'Skirts'\n",
    "            WHEN 3 THEN 'Blouses' \n",
    "            ELSE 'Shirt'\n",
    "            END as Product\n",
    "from demo.clickstreambackup \n",
    "where year ='2008'\n",
    "group by Product"
   ]
  },
  {
   "cell_type": "code",
   "execution_count": 21,
   "id": "bb108046-6d86-42a0-9bd0-6a6bfb53136a",
   "metadata": {
    "execution": {
     "iopub.execute_input": "2023-10-12T19:07:15.857726Z",
     "iopub.status.busy": "2023-10-12T19:07:15.857435Z",
     "iopub.status.idle": "2023-10-12T19:07:23.242217Z",
     "shell.execute_reply": "2023-10-12T19:07:23.241415Z",
     "shell.execute_reply.started": "2023-10-12T19:07:15.857702Z"
    },
    "tags": []
   },
   "outputs": [
    {
     "data": {
      "application/vnd.jupyter.widget-view+json": {
       "model_id": "",
       "version_major": 2,
       "version_minor": 0
      },
      "text/plain": [
       "FloatProgress(value=0.0, bar_style='info', description='Progress:', layout=Layout(height='25px', width='50%'),…"
      ]
     },
     "metadata": {},
     "output_type": "display_data"
    },
    {
     "data": {
      "text/html": [
       "<style>.jp-OutputArea-child .jupyter-widgets.jp-OutputArea-output { overflow: auto; }</style>"
      ],
      "text/plain": [
       "<IPython.core.display.HTML object>"
      ]
     },
     "metadata": {},
     "output_type": "display_data"
    },
    {
     "data": {
      "application/vnd.jupyter.widget-view+json": {
       "model_id": "f2d86879d2be4ca4b2c17cca368a006a",
       "version_major": 2,
       "version_minor": 0
      },
      "text/plain": [
       "VBox(children=(HBox(children=(HTML(value='Type:'), Button(description='Table', layout=Layout(width='70px'), st…"
      ]
     },
     "metadata": {},
     "output_type": "display_data"
    },
    {
     "data": {
      "application/vnd.jupyter.widget-view+json": {
       "model_id": "0e6e542e6ae04274a177f60298b6050a",
       "version_major": 2,
       "version_minor": 0
      },
      "text/plain": [
       "Output()"
      ]
     },
     "metadata": {},
     "output_type": "display_data"
    }
   ],
   "source": [
    "%%sql\n",
    "select sum(price) as total_sales, CASE `page 1 (main category)`\n",
    "            WHEN 1 THEN 'Trousers' \n",
    "            WHEN 2 THEN 'Skirts'\n",
    "            WHEN 3 THEN 'Blouses' \n",
    "            ELSE 'Shirt'\n",
    "            END as Product\n",
    "from demo.clickstreambackup \n",
    "where year ='2008'\n",
    "group by Product"
   ]
  },
  {
   "cell_type": "code",
   "execution_count": null,
   "id": "e4dfdcd8-5145-4bb7-a4e4-5a8b684b31cd",
   "metadata": {},
   "outputs": [],
   "source": []
  }
 ],
 "metadata": {
  "kernelspec": {
   "display_name": "PySpark",
   "language": "python",
   "name": "pysparkkernel"
  },
  "language_info": {
   "codemirror_mode": {
    "name": "python",
    "version": 3
   },
   "file_extension": ".py",
   "mimetype": "text/x-python",
   "name": "pyspark",
   "pygments_lexer": "python3"
  }
 },
 "nbformat": 4,
 "nbformat_minor": 5
}
