{
 "cells": [
  {
   "cell_type": "markdown",
   "id": "7e0e6c18-483e-4909-a969-64f74adea9b5",
   "metadata": {},
   "source": [
    "## Generate a report of total sales by month"
   ]
  },
  {
   "cell_type": "code",
   "execution_count": 5,
   "id": "283a29d6-12b7-444c-8be2-54c130db518a",
   "metadata": {
    "execution": {
     "iopub.execute_input": "2023-10-12T18:48:42.662445Z",
     "iopub.status.busy": "2023-10-12T18:48:42.662117Z",
     "iopub.status.idle": "2023-10-12T18:48:58.303172Z",
     "shell.execute_reply": "2023-10-12T18:48:58.302422Z",
     "shell.execute_reply.started": "2023-10-12T18:48:42.662418Z"
    },
    "tags": []
   },
   "outputs": [
    {
     "data": {
      "application/vnd.jupyter.widget-view+json": {
       "model_id": "",
       "version_major": 2,
       "version_minor": 0
      },
      "text/plain": [
       "FloatProgress(value=0.0, bar_style='info', description='Progress:', layout=Layout(height='25px', width='50%'),…"
      ]
     },
     "metadata": {},
     "output_type": "display_data"
    },
    {
     "data": {
      "text/html": [
       "<style>.jp-OutputArea-child .jupyter-widgets.jp-OutputArea-output { overflow: auto; }</style>"
      ],
      "text/plain": [
       "<IPython.core.display.HTML object>"
      ]
     },
     "metadata": {},
     "output_type": "display_data"
    },
    {
     "data": {
      "application/vnd.jupyter.widget-view+json": {
       "model_id": "bc6091078ceb4d7c9ec3fa98c275aa85",
       "version_major": 2,
       "version_minor": 0
      },
      "text/plain": [
       "VBox(children=(HBox(children=(HTML(value='Type:'), Button(description='Table', layout=Layout(width='70px'), st…"
      ]
     },
     "metadata": {},
     "output_type": "display_data"
    },
    {
     "data": {
      "application/vnd.jupyter.widget-view+json": {
       "model_id": "3346ee2ab498419ba4b5be49ec0160d4",
       "version_major": 2,
       "version_minor": 0
      },
      "text/plain": [
       "Output()"
      ]
     },
     "metadata": {},
     "output_type": "display_data"
    }
   ],
   "source": [
    "%%sql\n",
    "\n",
    "SELECT * FROM demo.clickstreambackup limit 5\n",
    "\n",
    "\n"
   ]
  },
  {
   "cell_type": "code",
   "execution_count": 9,
   "id": "093b470c-0082-41df-94b3-321b27fb9348",
   "metadata": {
    "execution": {
     "iopub.execute_input": "2023-10-12T18:51:48.468013Z",
     "iopub.status.busy": "2023-10-12T18:51:48.467567Z",
     "iopub.status.idle": "2023-10-12T18:52:07.908048Z",
     "shell.execute_reply": "2023-10-12T18:52:07.907342Z",
     "shell.execute_reply.started": "2023-10-12T18:51:48.467983Z"
    }
   },
   "outputs": [
    {
     "data": {
      "application/vnd.jupyter.widget-view+json": {
       "model_id": "",
       "version_major": 2,
       "version_minor": 0
      },
      "text/plain": [
       "FloatProgress(value=0.0, bar_style='info', description='Progress:', layout=Layout(height='25px', width='50%'),…"
      ]
     },
     "metadata": {},
     "output_type": "display_data"
    },
    {
     "data": {
      "text/html": [
       "<style>.jp-OutputArea-child .jupyter-widgets.jp-OutputArea-output { overflow: auto; }</style>"
      ],
      "text/plain": [
       "<IPython.core.display.HTML object>"
      ]
     },
     "metadata": {},
     "output_type": "display_data"
    },
    {
     "data": {
      "application/vnd.jupyter.widget-view+json": {
       "model_id": "4e2bcae95fb74454ac0de04fb95d79d0",
       "version_major": 2,
       "version_minor": 0
      },
      "text/plain": [
       "VBox(children=(HBox(children=(HTML(value='Type:'), Button(description='Table', layout=Layout(width='70px'), st…"
      ]
     },
     "metadata": {},
     "output_type": "display_data"
    },
    {
     "data": {
      "application/vnd.jupyter.widget-view+json": {
       "model_id": "f2be09250bd544c98acff18e34f4fd8c",
       "version_major": 2,
       "version_minor": 0
      },
      "text/plain": [
       "Output()"
      ]
     },
     "metadata": {},
     "output_type": "display_data"
    }
   ],
   "source": [
    "%%sql\n",
    "\n",
    "SELECT sum(price) as total_sales,year,month FROM demo.clickstreambackup where year ='2008' group by year,month\n"
   ]
  },
  {
   "cell_type": "code",
   "execution_count": 8,
   "id": "ec48b64d-8b60-4e5f-bafd-c5c51dc72369",
   "metadata": {
    "execution": {
     "iopub.execute_input": "2023-10-12T18:50:39.514492Z",
     "iopub.status.busy": "2023-10-12T18:50:39.514190Z",
     "iopub.status.idle": "2023-10-12T18:50:48.920361Z",
     "shell.execute_reply": "2023-10-12T18:50:48.919658Z",
     "shell.execute_reply.started": "2023-10-12T18:50:39.514467Z"
    },
    "tags": []
   },
   "outputs": [
    {
     "data": {
      "application/vnd.jupyter.widget-view+json": {
       "model_id": "",
       "version_major": 2,
       "version_minor": 0
      },
      "text/plain": [
       "FloatProgress(value=0.0, bar_style='info', description='Progress:', layout=Layout(height='25px', width='50%'),…"
      ]
     },
     "metadata": {},
     "output_type": "display_data"
    },
    {
     "data": {
      "text/html": [
       "<style>.jp-OutputArea-child .jupyter-widgets.jp-OutputArea-output { overflow: auto; }</style>"
      ],
      "text/plain": [
       "<IPython.core.display.HTML object>"
      ]
     },
     "metadata": {},
     "output_type": "display_data"
    },
    {
     "data": {
      "application/vnd.jupyter.widget-view+json": {
       "model_id": "ac9521d5c0414c2ba8c5bda249e6e28b",
       "version_major": 2,
       "version_minor": 0
      },
      "text/plain": [
       "VBox(children=(HBox(children=(HTML(value='Type:'), Button(description='Table', layout=Layout(width='70px'), st…"
      ]
     },
     "metadata": {},
     "output_type": "display_data"
    },
    {
     "data": {
      "application/vnd.jupyter.widget-view+json": {
       "model_id": "73f73c78acf44cadbf545ae7c0ea1864",
       "version_major": 2,
       "version_minor": 0
      },
      "text/plain": [
       "Output()"
      ]
     },
     "metadata": {},
     "output_type": "display_data"
    }
   ],
   "source": [
    "%%sql\n",
    "\n",
    "SELECT sum(price) as total_sales,year,month FROM demo.clickstreambackup where year ='2008' group by year,month\n"
   ]
  },
  {
   "cell_type": "code",
   "execution_count": 11,
   "id": "dc7a06f8-7b48-491c-803e-2b93ea818e2c",
   "metadata": {
    "execution": {
     "iopub.execute_input": "2023-10-12T18:55:33.939564Z",
     "iopub.status.busy": "2023-10-12T18:55:33.939268Z",
     "iopub.status.idle": "2023-10-12T18:55:49.268652Z",
     "shell.execute_reply": "2023-10-12T18:55:49.268028Z",
     "shell.execute_reply.started": "2023-10-12T18:55:33.939541Z"
    },
    "tags": []
   },
   "outputs": [
    {
     "data": {
      "application/vnd.jupyter.widget-view+json": {
       "model_id": "",
       "version_major": 2,
       "version_minor": 0
      },
      "text/plain": [
       "FloatProgress(value=0.0, bar_style='info', description='Progress:', layout=Layout(height='25px', width='50%'),…"
      ]
     },
     "metadata": {},
     "output_type": "display_data"
    },
    {
     "data": {
      "text/html": [
       "<style>.jp-OutputArea-child .jupyter-widgets.jp-OutputArea-output { overflow: auto; }</style>"
      ],
      "text/plain": [
       "<IPython.core.display.HTML object>"
      ]
     },
     "metadata": {},
     "output_type": "display_data"
    },
    {
     "data": {
      "application/vnd.jupyter.widget-view+json": {
       "model_id": "06a8480a74264eec9bfa022607fd424c",
       "version_major": 2,
       "version_minor": 0
      },
      "text/plain": [
       "VBox(children=(HBox(), EncodingWidget(children=(VBox(children=(HTML(value='Encoding:'), Dropdown(description='…"
      ]
     },
     "metadata": {},
     "output_type": "display_data"
    },
    {
     "data": {
      "application/vnd.jupyter.widget-view+json": {
       "model_id": "fb1374bbb4004154954a5b9c79cb2183",
       "version_major": 2,
       "version_minor": 0
      },
      "text/plain": [
       "Output()"
      ]
     },
     "metadata": {},
     "output_type": "display_data"
    }
   ],
   "source": [
    "%%sql\n",
    "CREATE TABLE IF NOT EXISTS aggregate_sales\n",
    "    USING parquet\n",
    "    LOCATION \"s3://intuit-analyst-journey-test-udnaraya/aggregate_sales/\" \n",
    "    AS SELECT sum(price) as total_sales,year,month FROM demo.clickstreambackup where year ='2008' group by year,month\n"
   ]
  },
  {
   "cell_type": "code",
   "execution_count": 12,
   "id": "9095af59-b7d2-4c7e-b264-9b7c2635a8f8",
   "metadata": {
    "execution": {
     "iopub.execute_input": "2023-10-12T18:56:04.554201Z",
     "iopub.status.busy": "2023-10-12T18:56:04.553850Z",
     "iopub.status.idle": "2023-10-12T18:56:09.930635Z",
     "shell.execute_reply": "2023-10-12T18:56:09.929930Z",
     "shell.execute_reply.started": "2023-10-12T18:56:04.554174Z"
    }
   },
   "outputs": [
    {
     "data": {
      "application/vnd.jupyter.widget-view+json": {
       "model_id": "",
       "version_major": 2,
       "version_minor": 0
      },
      "text/plain": [
       "FloatProgress(value=0.0, bar_style='info', description='Progress:', layout=Layout(height='25px', width='50%'),…"
      ]
     },
     "metadata": {},
     "output_type": "display_data"
    },
    {
     "data": {
      "text/html": [
       "<style>.jp-OutputArea-child .jupyter-widgets.jp-OutputArea-output { overflow: auto; }</style>"
      ],
      "text/plain": [
       "<IPython.core.display.HTML object>"
      ]
     },
     "metadata": {},
     "output_type": "display_data"
    },
    {
     "data": {
      "application/vnd.jupyter.widget-view+json": {
       "model_id": "757a801617084acfb047c9d60dd1817b",
       "version_major": 2,
       "version_minor": 0
      },
      "text/plain": [
       "VBox(children=(HBox(children=(HTML(value='Type:'), Button(description='Table', layout=Layout(width='70px'), st…"
      ]
     },
     "metadata": {},
     "output_type": "display_data"
    },
    {
     "data": {
      "application/vnd.jupyter.widget-view+json": {
       "model_id": "b264a5afa6444a63bd56c858782f2bda",
       "version_major": 2,
       "version_minor": 0
      },
      "text/plain": [
       "Output()"
      ]
     },
     "metadata": {},
     "output_type": "display_data"
    }
   ],
   "source": [
    "%%sql\n",
    "select * from aggregate_sales"
   ]
  },
  {
   "cell_type": "markdown",
   "id": "0dd6697f-3d08-4879-aabe-fb35f4e4dc50",
   "metadata": {
    "execution": {
     "iopub.execute_input": "2023-10-12T19:00:19.064469Z",
     "iopub.status.busy": "2023-10-12T19:00:19.064135Z",
     "iopub.status.idle": "2023-10-12T19:00:19.108642Z",
     "shell.execute_reply": "2023-10-12T19:00:19.107986Z",
     "shell.execute_reply.started": "2023-10-12T19:00:19.064444Z"
    }
   },
   "source": [
    "## Total sales by clothing type"
   ]
  },
  {
   "cell_type": "code",
   "execution_count": null,
   "id": "7f6fa011-5a41-4e08-8a52-e1d592060722",
   "metadata": {
    "execution": {
     "iopub.execute_input": "2023-10-12T19:05:59.105000Z",
     "iopub.status.busy": "2023-10-12T19:05:59.104690Z",
     "iopub.status.idle": "2023-10-12T19:06:20.526848Z"
    },
    "tags": []
   },
   "outputs": [
    {
     "data": {
      "application/vnd.jupyter.widget-view+json": {
       "model_id": "",
       "version_major": 2,
       "version_minor": 0
      },
      "text/plain": [
       "FloatProgress(value=0.0, bar_style='info', description='Progress:', layout=Layout(height='25px', width='50%'),…"
      ]
     },
     "metadata": {},
     "output_type": "display_data"
    },
    {
     "data": {
      "text/html": [
       "<style>.jp-OutputArea-child .jupyter-widgets.jp-OutputArea-output { overflow: auto; }</style>"
      ],
      "text/plain": [
       "<IPython.core.display.HTML object>"
      ]
     },
     "metadata": {},
     "output_type": "display_data"
    },
    {
     "data": {
      "application/vnd.jupyter.widget-view+json": {
       "model_id": "1399cb0c4ee54c12964712cc19f9798a",
       "version_major": 2,
       "version_minor": 0
      },
      "text/plain": [
       "VBox(children=(HBox(children=(HTML(value='Type:'), Button(description='Table', layout=Layout(width='70px'), st…"
      ]
     },
     "metadata": {},
     "output_type": "display_data"
    },
    {
     "data": {
      "application/vnd.jupyter.widget-view+json": {
       "model_id": "ebc10906cc4a4f9b83ec161bca373878",
       "version_major": 2,
       "version_minor": 0
      },
      "text/plain": [
       "Output()"
      ]
     },
     "metadata": {},
     "output_type": "display_data"
    }
   ],
   "source": [
    "%%sql\n",
    "select sum(price) as total_sales, CASE `page 1 (main category)`\n",
    "            WHEN 1 THEN 'Trousers' \n",
    "            WHEN 2 THEN 'Skirts'\n",
    "            WHEN 3 THEN 'Blouses' \n",
    "            ELSE 'Shirt'\n",
    "            END as Product\n",
    "from demo.clickstreambackup \n",
    "where year ='2008'\n",
    "group by Product"
   ]
  },
  {
   "cell_type": "code",
   "execution_count": 21,
   "id": "bb108046-6d86-42a0-9bd0-6a6bfb53136a",
   "metadata": {
    "execution": {
     "iopub.execute_input": "2023-10-12T19:07:15.857726Z",
     "iopub.status.busy": "2023-10-12T19:07:15.857435Z",
     "iopub.status.idle": "2023-10-12T19:07:23.242217Z",
     "shell.execute_reply": "2023-10-12T19:07:23.241415Z",
     "shell.execute_reply.started": "2023-10-12T19:07:15.857702Z"
    },
    "tags": []
   },
   "outputs": [
    {
     "data": {
      "application/vnd.jupyter.widget-view+json": {
       "model_id": "",
       "version_major": 2,
       "version_minor": 0
      },
      "text/plain": [
       "FloatProgress(value=0.0, bar_style='info', description='Progress:', layout=Layout(height='25px', width='50%'),…"
      ]
     },
     "metadata": {},
     "output_type": "display_data"
    },
    {
     "data": {
      "text/html": [
       "<style>.jp-OutputArea-child .jupyter-widgets.jp-OutputArea-output { overflow: auto; }</style>"
      ],
      "text/plain": [
       "<IPython.core.display.HTML object>"
      ]
     },
     "metadata": {},
     "output_type": "display_data"
    },
    {
     "data": {
      "application/vnd.jupyter.widget-view+json": {
       "model_id": "f2d86879d2be4ca4b2c17cca368a006a",
       "version_major": 2,
       "version_minor": 0
      },
      "text/plain": [
       "VBox(children=(HBox(children=(HTML(value='Type:'), Button(description='Table', layout=Layout(width='70px'), st…"
      ]
     },
     "metadata": {},
     "output_type": "display_data"
    },
    {
     "data": {
      "application/vnd.jupyter.widget-view+json": {
       "model_id": "0e6e542e6ae04274a177f60298b6050a",
       "version_major": 2,
       "version_minor": 0
      },
      "text/plain": [
       "Output()"
      ]
     },
     "metadata": {},
     "output_type": "display_data"
    }
   ],
   "source": [
    "%%sql\n",
    "select sum(price) as total_sales, CASE `page 1 (main category)`\n",
    "            WHEN 1 THEN 'Trousers' \n",
    "            WHEN 2 THEN 'Skirts'\n",
    "            WHEN 3 THEN 'Blouses' \n",
    "            ELSE 'Shirt'\n",
    "            END as Product\n",
    "from demo.clickstreambackup \n",
    "where year ='2008'\n",
    "group by Product"
   ]
  },
  {
   "cell_type": "code",
   "execution_count": null,
   "id": "e4dfdcd8-5145-4bb7-a4e4-5a8b684b31cd",
   "metadata": {},
   "outputs": [],
   "source": []
  }
 ],
 "metadata": {
  "kernelspec": {
   "display_name": "PySpark",
   "language": "python",
   "name": "pysparkkernel"
  },
  "language_info": {
   "codemirror_mode": {
    "name": "python",
    "version": 3
   },
   "file_extension": ".py",
   "mimetype": "text/x-python",
   "name": "pyspark",
   "pygments_lexer": "python3"
  }
 },
 "nbformat": 4,
 "nbformat_minor": 5
}
